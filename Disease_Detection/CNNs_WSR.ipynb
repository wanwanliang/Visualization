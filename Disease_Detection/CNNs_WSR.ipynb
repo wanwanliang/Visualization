{
  "nbformat": 4,
  "nbformat_minor": 0,
  "metadata": {
    "colab": {
      "name": "CNNs_WSR.ipynb",
      "provenance": [],
      "collapsed_sections": [],
      "toc_visible": true,
      "authorship_tag": "ABX9TyO3e5nUlZ6obwtbGDiw823P",
      "include_colab_link": true
    },
    "kernelspec": {
      "display_name": "Python 3",
      "name": "python3"
    }
  },
  "cells": [
    {
      "cell_type": "markdown",
      "metadata": {
        "id": "view-in-github",
        "colab_type": "text"
      },
      "source": [
        "<a href=\"https://colab.research.google.com/github/wanwanliang/Research_Projects/blob/main/Disease_Detection/CNNs_WSR.ipynb\" target=\"_parent\"><img src=\"https://colab.research.google.com/assets/colab-badge.svg\" alt=\"Open In Colab\"/></a>"
      ]
    },
    {
      "cell_type": "markdown",
      "metadata": {
        "id": "iyl3CltvCfs2"
      },
      "source": [
        " # Prepare data"
      ]
    },
    {
      "cell_type": "markdown",
      "metadata": {
        "id": "JSdCgBoYMLLQ"
      },
      "source": [
        "## install and load packages"
      ]
    },
    {
      "cell_type": "code",
      "metadata": {
        "id": "5WG8EjJGMOsY",
        "colab": {
          "base_uri": "https://localhost:8080/"
        },
        "outputId": "021930e2-d481-40a7-b8c0-93edcbc5b866"
      },
      "source": [
        "!pip install geopandas\r\n",
        "!pip install rasterio"
      ],
      "execution_count": 2,
      "outputs": [
        {
          "output_type": "stream",
          "text": [
            "Collecting geopandas\n",
            "\u001b[?25l  Downloading https://files.pythonhosted.org/packages/f7/a4/e66aafbefcbb717813bf3a355c8c4fc3ed04ea1dd7feb2920f2f4f868921/geopandas-0.8.1-py2.py3-none-any.whl (962kB)\n",
            "\u001b[K     |████████████████████████████████| 972kB 5.8MB/s \n",
            "\u001b[?25hCollecting pyproj>=2.2.0\n",
            "\u001b[?25l  Downloading https://files.pythonhosted.org/packages/e4/ab/280e80a67cfc109d15428c0ec56391fc03a65857b7727cf4e6e6f99a4204/pyproj-3.0.0.post1-cp36-cp36m-manylinux2010_x86_64.whl (6.4MB)\n",
            "\u001b[K     |████████████████████████████████| 6.5MB 25.4MB/s \n",
            "\u001b[?25hRequirement already satisfied: pandas>=0.23.0 in /usr/local/lib/python3.6/dist-packages (from geopandas) (1.1.5)\n",
            "Requirement already satisfied: shapely in /usr/local/lib/python3.6/dist-packages (from geopandas) (1.7.1)\n",
            "Collecting fiona\n",
            "\u001b[?25l  Downloading https://files.pythonhosted.org/packages/37/94/4910fd55246c1d963727b03885ead6ef1cd3748a465f7b0239ab25dfc9a3/Fiona-1.8.18-cp36-cp36m-manylinux1_x86_64.whl (14.8MB)\n",
            "\u001b[K     |████████████████████████████████| 14.8MB 40.7MB/s \n",
            "\u001b[?25hRequirement already satisfied: certifi in /usr/local/lib/python3.6/dist-packages (from pyproj>=2.2.0->geopandas) (2020.12.5)\n",
            "Requirement already satisfied: pytz>=2017.2 in /usr/local/lib/python3.6/dist-packages (from pandas>=0.23.0->geopandas) (2018.9)\n",
            "Requirement already satisfied: numpy>=1.15.4 in /usr/local/lib/python3.6/dist-packages (from pandas>=0.23.0->geopandas) (1.19.4)\n",
            "Requirement already satisfied: python-dateutil>=2.7.3 in /usr/local/lib/python3.6/dist-packages (from pandas>=0.23.0->geopandas) (2.8.1)\n",
            "Collecting cligj>=0.5\n",
            "  Downloading https://files.pythonhosted.org/packages/42/1e/947eadf10d6804bf276eb8a038bd5307996dceaaa41cfd21b7a15ec62f5d/cligj-0.7.1-py3-none-any.whl\n",
            "Requirement already satisfied: six>=1.7 in /usr/local/lib/python3.6/dist-packages (from fiona->geopandas) (1.15.0)\n",
            "Requirement already satisfied: click<8,>=4.0 in /usr/local/lib/python3.6/dist-packages (from fiona->geopandas) (7.1.2)\n",
            "Collecting click-plugins>=1.0\n",
            "  Downloading https://files.pythonhosted.org/packages/e9/da/824b92d9942f4e472702488857914bdd50f73021efea15b4cad9aca8ecef/click_plugins-1.1.1-py2.py3-none-any.whl\n",
            "Collecting munch\n",
            "  Downloading https://files.pythonhosted.org/packages/cc/ab/85d8da5c9a45e072301beb37ad7f833cd344e04c817d97e0cc75681d248f/munch-2.5.0-py2.py3-none-any.whl\n",
            "Requirement already satisfied: attrs>=17 in /usr/local/lib/python3.6/dist-packages (from fiona->geopandas) (20.3.0)\n",
            "Installing collected packages: pyproj, cligj, click-plugins, munch, fiona, geopandas\n",
            "Successfully installed click-plugins-1.1.1 cligj-0.7.1 fiona-1.8.18 geopandas-0.8.1 munch-2.5.0 pyproj-3.0.0.post1\n",
            "Collecting rasterio\n",
            "\u001b[?25l  Downloading https://files.pythonhosted.org/packages/33/1a/51baddc8581ead98fcef591624b4b2521b581943a9178912a2ac576e0235/rasterio-1.1.8-1-cp36-cp36m-manylinux1_x86_64.whl (18.3MB)\n",
            "\u001b[K     |████████████████████████████████| 18.3MB 478kB/s \n",
            "\u001b[?25hRequirement already satisfied: numpy in /usr/local/lib/python3.6/dist-packages (from rasterio) (1.19.4)\n",
            "Requirement already satisfied: cligj>=0.5 in /usr/local/lib/python3.6/dist-packages (from rasterio) (0.7.1)\n",
            "Collecting snuggs>=1.4.1\n",
            "  Downloading https://files.pythonhosted.org/packages/cc/0e/d27d6e806d6c0d1a2cfdc5d1f088e42339a0a54a09c3343f7f81ec8947ea/snuggs-1.4.7-py3-none-any.whl\n",
            "Requirement already satisfied: click<8,>=4.0 in /usr/local/lib/python3.6/dist-packages (from rasterio) (7.1.2)\n",
            "Requirement already satisfied: attrs in /usr/local/lib/python3.6/dist-packages (from rasterio) (20.3.0)\n",
            "Requirement already satisfied: click-plugins in /usr/local/lib/python3.6/dist-packages (from rasterio) (1.1.1)\n",
            "Collecting affine\n",
            "  Downloading https://files.pythonhosted.org/packages/ac/a6/1a39a1ede71210e3ddaf623982b06ecfc5c5c03741ae659073159184cd3e/affine-2.3.0-py2.py3-none-any.whl\n",
            "Requirement already satisfied: pyparsing>=2.1.6 in /usr/local/lib/python3.6/dist-packages (from snuggs>=1.4.1->rasterio) (2.4.7)\n",
            "Installing collected packages: snuggs, affine, rasterio\n",
            "Successfully installed affine-2.3.0 rasterio-1.1.8 snuggs-1.4.7\n"
          ],
          "name": "stdout"
        }
      ]
    },
    {
      "cell_type": "code",
      "metadata": {
        "id": "S9TQTCuTZUUp"
      },
      "source": [
        "import rasterio as rio\r\n",
        "import geopandas as gpd\r\n",
        "import pandas as pd\r\n",
        "import numpy as np\r\n",
        "import os\r\n",
        "import sklearn\r\n",
        "import tensorflow as tf\r\n",
        "%matplotlib inline\r\n",
        "import matplotlib.pyplot as plt\r\n",
        "import google.colab\r\n",
        "from google.colab import drive\r\n",
        "import glob"
      ],
      "execution_count": 3,
      "outputs": []
    },
    {
      "cell_type": "code",
      "metadata": {
        "id": "l22oxr9Ob9jr",
        "colab": {
          "base_uri": "https://localhost:8080/"
        },
        "outputId": "812e4899-c1df-47a8-8ac3-05c38ee89793"
      },
      "source": [
        "drive.mount('/content/drive')"
      ],
      "execution_count": 4,
      "outputs": [
        {
          "output_type": "stream",
          "text": [
            "Mounted at /content/drive\n"
          ],
          "name": "stdout"
        }
      ]
    },
    {
      "cell_type": "code",
      "metadata": {
        "id": "cHN7tNPAcQ48"
      },
      "source": [
        "os.chdir(\"/content/drive/My Drive/UMN_Research/Data/wsr/image_200_bb45\")"
      ],
      "execution_count": 5,
      "outputs": []
    },
    {
      "cell_type": "code",
      "metadata": {
        "id": "SwLA-kmZVjX9"
      },
      "source": [
        "from keras.layers import Input, Conv2D, Activation, BatchNormalization, GlobalAveragePooling2D, Dense, Dropout, AveragePooling2D, Flatten, ZeroPadding2D, MaxPooling2D, Add\r\n",
        "from keras.activations import relu, softmax\r\n",
        "from keras.models import Model\r\n",
        "from keras import regularizers, initializers"
      ],
      "execution_count": 6,
      "outputs": []
    },
    {
      "cell_type": "code",
      "metadata": {
        "id": "tD2REYQNbMD1"
      },
      "source": [
        "from sklearn.preprocessing import OneHotEncoder\r\n",
        "from sklearn.model_selection import train_test_split"
      ],
      "execution_count": 7,
      "outputs": []
    },
    {
      "cell_type": "markdown",
      "metadata": {
        "id": "SxAHVhc3D-f-"
      },
      "source": [
        "# Design Resnet"
      ]
    },
    {
      "cell_type": "markdown",
      "metadata": {
        "id": "SPxsT_w6EJGd"
      },
      "source": [
        "### Define identity block"
      ]
    },
    {
      "cell_type": "code",
      "metadata": {
        "id": "DlAj9gLpb47d"
      },
      "source": [
        "def identity_block(X,f,filters, stage, block):\r\n",
        "\r\n",
        "  # defining name basis\r\n",
        "  conv_name_base = 'res' + str(stage) + block + \"_branch\"\r\n",
        "  bn_name_base = 'bn' + str(stage) + block + \"_branch\"\r\n",
        "\r\n",
        "  F1, F2, F3 = filters\r\n",
        "\r\n",
        "  X_shortcut = X\r\n",
        "\r\n",
        "  # first component of main path\r\n",
        "  X = Conv2D(filters=F1, kernel_size=(1,1), strides=(1,1), padding='valid', name = conv_name_base + '2a', kernel_initializer=initializers.glorot_uniform(seed=0))(X)\r\n",
        "  X = BatchNormalization(axis=3, name=bn_name_base + '2a')(X)\r\n",
        "  X = Activation('relu')(X)\r\n",
        "\r\n",
        "  # second component of main path\r\n",
        "  X = Conv2D(filters=F2, kernel_size=(f,f), strides=(1,1), padding='same', name=conv_name_base + '2b', kernel_initializer=initializers.glorot_uniform(seed=0))(X)\r\n",
        "  X = BatchNormalization(axis = 3, name=bn_name_base + '2b')(X)\r\n",
        "  X =  Activation('relu')(X)\r\n",
        "\r\n",
        "  # third component of main path\r\n",
        "  X = Conv2D(filters = F3, kernel_size = (1, 1), strides = (1,1), padding = 'valid', name = conv_name_base + '2c', kernel_initializer = initializers.glorot_uniform(seed=0))(X)\r\n",
        "  X = BatchNormalization(axis = 3, name = bn_name_base + '2c')(X)\r\n",
        "\r\n",
        "  # final step\r\n",
        "  X = Add()([X, X_shortcut])\r\n",
        "  X = Activation('relu')(X)\r\n",
        "\r\n",
        "  return X"
      ],
      "execution_count": 8,
      "outputs": []
    },
    {
      "cell_type": "markdown",
      "metadata": {
        "id": "wYDorHqQEOp8"
      },
      "source": [
        "### Define convolutional block"
      ]
    },
    {
      "cell_type": "code",
      "metadata": {
        "id": "ZATMgxPM5v7F"
      },
      "source": [
        "def convolutional_block(X, f, filters, stage, block, s=2):\r\n",
        "\r\n",
        "  # defining name basis\r\n",
        "  conv_name_base = 'res' + str(stage) + block + \"_branch\"\r\n",
        "  bn_name_base = 'bn' + str(stage) + block + \"_branch\"\r\n",
        "\r\n",
        "  # Retrieve Filters\r\n",
        "  F1, F2, F3 = filters\r\n",
        "\r\n",
        "  X_shortcut = X\r\n",
        "\r\n",
        "  # First component of main path \r\n",
        "  X = Conv2D(F1, (1,1), strides = (s,s), name= conv_name_base + \"2a\", kernel_initializer= initializers.glorot_uniform(seed=0))(X)\r\n",
        "  X = BatchNormalization(axis=3, name=bn_name_base + '2a')(X)\r\n",
        "  X = Activation('relu')(X)\r\n",
        "\r\n",
        "  # Second component of main path \r\n",
        "  X = Conv2D(filters= F2, kernel_size=(f,f), strides=(1,1), padding='same', name=conv_name_base + '2b', kernel_initializer= initializers.glorot_uniform(seed=0))(X)\r\n",
        "  X = BatchNormalization(axis=3, name=bn_name_base + '2b')(X)\r\n",
        "  X = Activation('relu')(X)\r\n",
        "\r\n",
        "  # Third component of main path \r\n",
        "  X = Conv2D(filters = F3, kernel_size=(1,1), strides=(1,1), padding='valid', name=conv_name_base + '2c', kernel_initializer=initializers.glorot_uniform(seed=0))(X)\r\n",
        "  X = BatchNormalization(axis = 3, name = bn_name_base + '2c')(X)\r\n",
        "\r\n",
        "  ##### SHORTCUT PATH #### \r\n",
        "  X_shortcut =  Conv2D(F3, (1, 1), strides = (s,s), name = conv_name_base + '1', kernel_initializer = initializers.glorot_uniform(seed=0))(X_shortcut)\r\n",
        "  X_shortcut = BatchNormalization(axis = 3, name = bn_name_base + '1')(X_shortcut)\r\n",
        "\r\n",
        "  # Final step: Add shortcut value to main path, and pass it through a RELU activation \r\n",
        "  X = Add()([X, X_shortcut])\r\n",
        "  X = Activation('relu')(X)\r\n",
        "\r\n",
        "  return X"
      ],
      "execution_count": 9,
      "outputs": []
    },
    {
      "cell_type": "markdown",
      "metadata": {
        "id": "nqctzbGQiVv9"
      },
      "source": [
        "### ResNet50"
      ]
    },
    {
      "cell_type": "code",
      "metadata": {
        "id": "Q05vttJGLof1"
      },
      "source": [
        "def ResNet50(input_shape = (64, 64, 5), classes=2):\r\n",
        "\r\n",
        "  X_input = Input(input_shape)\r\n",
        "\r\n",
        "  X = ZeroPadding2D((3,3))(X_input)\r\n",
        "\r\n",
        "  # stage 1 \r\n",
        "  X = Conv2D(64, (3,3), strides=(2,2), name='conv1', kernel_initializer=initializers.glorot_uniform(seed=0))(X)\r\n",
        "  X = BatchNormalization(axis=3, name='bn_conv1')(X)\r\n",
        "  X = Activation('relu')(X)\r\n",
        "  X = MaxPooling2D((3,3), strides=(2,2), padding='same')(X)\r\n",
        "  \r\n",
        "  # stage 2\r\n",
        "  X = convolutional_block(X, f=3, filters=[64, 64, 256], stage=2, block='a', s=1)\r\n",
        "  X = identity_block(X, 3, [64,64,256], stage=2, block='b')\r\n",
        "  X = identity_block(X, 3, [64,64,256], stage=2, block='c')\r\n",
        "\r\n",
        "  # stage 3\r\n",
        "  X = convolutional_block(X, f=3, filters=[128, 128, 512], stage=3, block='a', s=2)\r\n",
        "  X = identity_block(X, 3, [128, 128, 512], stage=3, block='b')\r\n",
        "  X = identity_block(X, 3, [128,128,512], stage=3, block='c')\r\n",
        "  X = identity_block(X, 3, [128,128,512], stage=3, block='d')\r\n",
        "\r\n",
        "  # stage 4\r\n",
        "  X = convolutional_block(X, f=3, filters=[256,256,1024], stage=4, block='a', s=2)\r\n",
        "  X = identity_block(X, 3, [256, 256, 1024], stage=4, block='b')\r\n",
        "  X = identity_block(X, 3, [256, 256, 1024], stage=4, block='c')\r\n",
        "  X = identity_block(X, 3, [256, 256, 1024], stage=4, block='d')\r\n",
        "  X = identity_block(X, 3, [256, 256, 1024], stage=4, block='e')\r\n",
        "  X = identity_block(X, 3, [256, 256, 1024], stage=4, block='f')\r\n",
        "\r\n",
        "  # stage 5\r\n",
        "  X = convolutional_block(X, f = 3, filters = [512, 512, 2048], stage = 5, block='a', s = 2)\r\n",
        "  X = identity_block(X, 3, [512,512, 2048], stage=5, block='b')\r\n",
        "  X = identity_block(X, 3, [512, 512, 2048], stage=5, block='c')\r\n",
        "\r\n",
        "  # averge pooling\r\n",
        "  X = AveragePooling2D(name='avg_pool', padding='same')(X)\r\n",
        "\r\n",
        "  # output layer\r\n",
        "  X = Flatten()(X)\r\n",
        "  X = Dense(classes, activation='softmax', name='fc' + str(classes), kernel_initializer= initializers.glorot_uniform(seed=0))(X)\r\n",
        "\r\n",
        "  # create model\r\n",
        "  model = Model(inputs = X_input, outputs= X, name='ResNet50')\r\n",
        "\r\n",
        "  return model"
      ],
      "execution_count": 31,
      "outputs": []
    },
    {
      "cell_type": "markdown",
      "metadata": {
        "id": "3m8GfuU1VfZm"
      },
      "source": [
        "### ResNet26"
      ]
    },
    {
      "cell_type": "code",
      "metadata": {
        "id": "mGzO63s2o8Si"
      },
      "source": [
        "def ResNet26(input_shape = (64, 64, 5), classes=2):\r\n",
        "\r\n",
        "  X_input = Input(input_shape)\r\n",
        "\r\n",
        "  X = ZeroPadding2D((3,3))(X_input)\r\n",
        "\r\n",
        "  # stage 1 \r\n",
        "  X = Conv2D(64, (3,3), strides=(2,2), name='conv1', kernel_initializer=initializers.glorot_uniform(seed=0))(X)\r\n",
        "  X = BatchNormalization(axis=3, name='bn_conv1')(X)\r\n",
        "  X = Activation('relu')(X)\r\n",
        "  X = MaxPooling2D((3,3), strides=(1,1), padding='same')(X)\r\n",
        "  \r\n",
        "  # stage 2\r\n",
        "  X = convolutional_block(X, f=3, filters=[64, 64, 256], stage=2, block='a', s=1)\r\n",
        "  X = identity_block(X, 3, [64,64,256], stage=2, block='b')\r\n",
        "\r\n",
        "\r\n",
        "  # stage 3\r\n",
        "  X = convolutional_block(X, f=3, filters=[128, 128, 512], stage=3, block='a', s=2)\r\n",
        "  X = identity_block(X, 3, [128, 128, 512], stage=3, block='b')\r\n",
        "\r\n",
        "\r\n",
        "  # stage 4\r\n",
        "  X = convolutional_block(X, f=3, filters=[256,256,1024], stage=4, block='a', s=2)\r\n",
        "  X = identity_block(X, 3, [256, 256, 1024], stage=4, block='b')\r\n",
        "\r\n",
        "\r\n",
        "  # stage 5\r\n",
        "  X = convolutional_block(X, f = 3, filters = [512, 512, 2048], stage = 5, block='a', s = 2)\r\n",
        "  X = identity_block(X, 3, [512,512, 2048], stage=5, block='b')\r\n",
        "\r\n",
        "\r\n",
        "  # averge pooling\r\n",
        "  X = AveragePooling2D(name='avg_pool', padding='same')(X)\r\n",
        "\r\n",
        "  # output layer\r\n",
        "  X = Flatten()(X)\r\n",
        "  X = Dense(classes, activation='softmax', name='fc' + str(classes), kernel_initializer= initializers.glorot_uniform(seed=0))(X)\r\n",
        "\r\n",
        "  # create model\r\n",
        "  model = Model(inputs = X_input, outputs= X, name='ResNet50')\r\n",
        "\r\n",
        "  return model"
      ],
      "execution_count": null,
      "outputs": []
    },
    {
      "cell_type": "markdown",
      "metadata": {
        "id": "1VTFnV4npyNH"
      },
      "source": [
        "###ResNet 14"
      ]
    },
    {
      "cell_type": "code",
      "metadata": {
        "id": "vcC9ORJqqFZy"
      },
      "source": [
        "def ResNet26(input_shape = (64, 64, 5), classes=2):\r\n",
        "\r\n",
        "  X_input = Input(input_shape)\r\n",
        "\r\n",
        "  X = ZeroPadding2D((3,3))(X_input)\r\n",
        "\r\n",
        "  # stage 1 \r\n",
        "  X = Conv2D(64, (3,3), strides=(2,2), name='conv1', kernel_initializer=initializers.glorot_uniform(seed=0))(X)\r\n",
        "  X = BatchNormalization(axis=3, name='bn_conv1')(X)\r\n",
        "  X = Activation('relu')(X)\r\n",
        "  X = MaxPooling2D((3,3), strides=(1,1), padding='same')(X)\r\n",
        "  \r\n",
        "  # stage 2\r\n",
        "  X = convolutional_block(X, f=3, filters=[64, 64, 256], stage=2, block='a', s=1)\r\n",
        "\r\n",
        "\r\n",
        "  # stage 3\r\n",
        "  X = convolutional_block(X, f=3, filters=[128, 128, 512], stage=3, block='a', s=2)\r\n",
        "\r\n",
        "\r\n",
        "  # stage 4\r\n",
        "  X = convolutional_block(X, f=3, filters=[256,256,1024], stage=4, block='a', s=2)\r\n",
        "\r\n",
        "\r\n",
        "  # stage 5\r\n",
        "  X = convolutional_block(X, f = 3, filters = [512, 512, 2048], stage = 5, block='a', s = 2)\r\n",
        "\r\n",
        "\r\n",
        "  # averge pooling\r\n",
        "  X = AveragePooling2D(name='avg_pool', padding='same')(X)\r\n",
        "\r\n",
        "  # output layer\r\n",
        "  X = Flatten()(X)\r\n",
        "  X = Dense(classes, activation='softmax', name='fc' + str(classes), kernel_initializer= initializers.glorot_uniform(seed=0))(X)\r\n",
        "\r\n",
        "  # create model\r\n",
        "  model = Model(inputs = X_input, outputs= X, name='ResNet50')\r\n",
        "\r\n",
        "  return model"
      ],
      "execution_count": null,
      "outputs": []
    },
    {
      "cell_type": "markdown",
      "metadata": {
        "id": "eLiZcXpqEoLP"
      },
      "source": [
        "# Load and prepare data"
      ]
    },
    {
      "cell_type": "code",
      "metadata": {
        "id": "YwhEVYRtwX22"
      },
      "source": [
        "os.chdir('/content/drive/Shared drives/WSR_data/Drone200ft/Multispectral_LargerPlotSize')"
      ],
      "execution_count": 12,
      "outputs": []
    },
    {
      "cell_type": "markdown",
      "metadata": {
        "id": "dAuj4axFP4DW"
      },
      "source": [
        "### list and order files"
      ]
    },
    {
      "cell_type": "code",
      "metadata": {
        "id": "6TU7jkQk7w82",
        "colab": {
          "base_uri": "https://localhost:8080/"
        },
        "outputId": "e847b1d5-49a4-4c2b-8c4e-3a6d30fcce42"
      },
      "source": [
        "import glob\r\n",
        "t = glob.glob(\"*.tif\")\r\n",
        "# t2 = sorted(t)\r\n",
        "# os.remove('plot621 (1).tif')\r\n",
        "print(len(t))\r\n",
        "t[:10]"
      ],
      "execution_count": 13,
      "outputs": [
        {
          "output_type": "stream",
          "text": [
            "960\n"
          ],
          "name": "stdout"
        },
        {
          "output_type": "execute_result",
          "data": {
            "text/plain": [
              "['plot598.tif',\n",
              " 'plot482.tif',\n",
              " 'plot624.tif',\n",
              " 'plot574.tif',\n",
              " 'plot520.tif',\n",
              " 'plot560.tif',\n",
              " 'plot636.tif',\n",
              " 'plot501.tif',\n",
              " 'plot541.tif',\n",
              " 'plot587.tif']"
            ]
          },
          "metadata": {
            "tags": []
          },
          "execution_count": 13
        }
      ]
    },
    {
      "cell_type": "code",
      "metadata": {
        "id": "QDYiFUcgCW3K",
        "colab": {
          "base_uri": "https://localhost:8080/"
        },
        "outputId": "e88ce63e-5914-4a9b-b53c-456ad0294064"
      },
      "source": [
        "nbs = []\r\n",
        "[nbs.append(int((td.split('plot')[1]).split('.')[0])) for td in t]\r\n",
        "nbs[:10]"
      ],
      "execution_count": 14,
      "outputs": [
        {
          "output_type": "execute_result",
          "data": {
            "text/plain": [
              "[598, 482, 624, 574, 520, 560, 636, 501, 541, 587]"
            ]
          },
          "metadata": {
            "tags": []
          },
          "execution_count": 14
        }
      ]
    },
    {
      "cell_type": "code",
      "metadata": {
        "id": "3lY8_rifFTOz"
      },
      "source": [
        "all = zip(nbs, t)\r\n",
        "sorted_all = sorted(all)"
      ],
      "execution_count": 15,
      "outputs": []
    },
    {
      "cell_type": "code",
      "metadata": {
        "id": "lx-ZDCxzHkmj"
      },
      "source": [
        "t_sorted = [x for y, x in sorted_all]"
      ],
      "execution_count": 16,
      "outputs": []
    },
    {
      "cell_type": "code",
      "metadata": {
        "id": "2dX6l1XNPcd3",
        "colab": {
          "base_uri": "https://localhost:8080/"
        },
        "outputId": "1d1795cd-b8c9-4810-989c-663c645d0452"
      },
      "source": [
        "t_sorted[:10]"
      ],
      "execution_count": 17,
      "outputs": [
        {
          "output_type": "execute_result",
          "data": {
            "text/plain": [
              "['plot1.tif',\n",
              " 'plot2.tif',\n",
              " 'plot3.tif',\n",
              " 'plot4.tif',\n",
              " 'plot5.tif',\n",
              " 'plot6.tif',\n",
              " 'plot7.tif',\n",
              " 'plot8.tif',\n",
              " 'plot9.tif',\n",
              " 'plot10.tif']"
            ]
          },
          "metadata": {
            "tags": []
          },
          "execution_count": 17
        }
      ]
    },
    {
      "cell_type": "markdown",
      "metadata": {
        "id": "9_wz-8zmPxt6"
      },
      "source": [
        "### load all images in one numpy array"
      ]
    },
    {
      "cell_type": "code",
      "metadata": {
        "id": "V3ul1tvPSb4e"
      },
      "source": [
        "def tif2ary(tif):\r\n",
        "\r\n",
        "  raA = rio.open(tif)\r\n",
        "  arys = raA.read()\r\n",
        "\r\n",
        "  arys= arys.astype('float32')\r\n",
        "  arys =np.moveaxis(arys, 0, -1)\r\n",
        "\r\n",
        "  \r\n",
        "  return(arys)"
      ],
      "execution_count": 18,
      "outputs": []
    },
    {
      "cell_type": "code",
      "metadata": {
        "id": "xoAk0qKjTFgT"
      },
      "source": [
        "dt = None\r\n",
        "\r\n",
        "for tif in t_sorted:\r\n",
        "\r\n",
        "  ary = tif2ary(tif)\r\n",
        "  ary = ary[1:33, 1:33:,]\r\n",
        "\r\n",
        "  # resize image array to 64*64\r\n",
        "  ary = np.repeat(ary, 2, axis=1)\r\n",
        "  ary = np.repeat(ary, 2, axis=0)\r\n",
        "\r\n",
        "  ary = ary.reshape((1, 64, 64,5))\r\n",
        "\r\n",
        "  if dt is None:\r\n",
        "    dt = ary\r\n",
        "  else:\r\n",
        "    dt = np.concatenate((dt, ary), axis=0)"
      ],
      "execution_count": 20,
      "outputs": []
    },
    {
      "cell_type": "code",
      "metadata": {
        "id": "VyCIN_OrVBfY",
        "colab": {
          "base_uri": "https://localhost:8080/"
        },
        "outputId": "f38e0fb5-6278-4df7-9eeb-83cba141e2e0"
      },
      "source": [
        "dt.shape"
      ],
      "execution_count": 21,
      "outputs": [
        {
          "output_type": "execute_result",
          "data": {
            "text/plain": [
              "(960, 64, 64, 5)"
            ]
          },
          "metadata": {
            "tags": []
          },
          "execution_count": 21
        }
      ]
    },
    {
      "cell_type": "code",
      "metadata": {
        "id": "HISi6_FaRv1G",
        "colab": {
          "base_uri": "https://localhost:8080/"
        },
        "outputId": "fbd94c40-3009-4eb0-a38d-3ee7318b0942"
      },
      "source": [
        "min_val = [np.min(dt[:,:,:,i]) for i in range(5)]\r\n",
        "print(min_val)"
      ],
      "execution_count": 22,
      "outputs": [
        {
          "output_type": "stream",
          "text": [
            "[3707.8135, 3668.7615, 2762.414, 12326.874, 3777.8079]\n"
          ],
          "name": "stdout"
        }
      ]
    },
    {
      "cell_type": "code",
      "metadata": {
        "id": "cO8ZmvhXON4A",
        "colab": {
          "base_uri": "https://localhost:8080/"
        },
        "outputId": "3cdc1402-7dff-4384-a978-9993bfe403bf"
      },
      "source": [
        "max_val = [np.max(dt[:,:,:,i]) for i in range(5)]\r\n",
        "print(max_val)\r\n",
        "dt = dt/max_val\r\n",
        "print([np.max(dt[:,:,:,i]) for i in range(5)])"
      ],
      "execution_count": 23,
      "outputs": [
        {
          "output_type": "stream",
          "text": [
            "[64268.277, 60118.1, 35737.86, 236070.98, 52668.152]\n",
            "[1.0, 1.0, 1.0, 1.0, 1.0]\n"
          ],
          "name": "stdout"
        }
      ]
    },
    {
      "cell_type": "code",
      "metadata": {
        "id": "tvcVCNHBVuT-",
        "colab": {
          "base_uri": "https://localhost:8080/",
          "height": 221
        },
        "outputId": "0231036d-c03e-4fa7-8caf-bb8b517e14ee"
      },
      "source": [
        "y = pd.read_csv(\"../labels.csv\")\r\n",
        "print(y.shape)\r\n",
        "y[:5]"
      ],
      "execution_count": 24,
      "outputs": [
        {
          "output_type": "stream",
          "text": [
            "(960, 8)\n"
          ],
          "name": "stdout"
        },
        {
          "output_type": "execute_result",
          "data": {
            "text/html": [
              "<div>\n",
              "<style scoped>\n",
              "    .dataframe tbody tr th:only-of-type {\n",
              "        vertical-align: middle;\n",
              "    }\n",
              "\n",
              "    .dataframe tbody tr th {\n",
              "        vertical-align: top;\n",
              "    }\n",
              "\n",
              "    .dataframe thead th {\n",
              "        text-align: right;\n",
              "    }\n",
              "</style>\n",
              "<table border=\"1\" class=\"dataframe\">\n",
              "  <thead>\n",
              "    <tr style=\"text-align: right;\">\n",
              "      <th></th>\n",
              "      <th>plot_ID</th>\n",
              "      <th>binary_1</th>\n",
              "      <th>score</th>\n",
              "      <th>resistance</th>\n",
              "      <th>resistance_class_4</th>\n",
              "      <th>binary_2</th>\n",
              "      <th>block</th>\n",
              "      <th>variety</th>\n",
              "    </tr>\n",
              "  </thead>\n",
              "  <tbody>\n",
              "    <tr>\n",
              "      <th>0</th>\n",
              "      <td>1</td>\n",
              "      <td>1</td>\n",
              "      <td>50.0</td>\n",
              "      <td>S</td>\n",
              "      <td>S</td>\n",
              "      <td>S</td>\n",
              "      <td>2</td>\n",
              "      <td>DH058</td>\n",
              "    </tr>\n",
              "    <tr>\n",
              "      <th>1</th>\n",
              "      <td>2</td>\n",
              "      <td>1</td>\n",
              "      <td>5.0</td>\n",
              "      <td>RMR</td>\n",
              "      <td>MR</td>\n",
              "      <td>R</td>\n",
              "      <td>2</td>\n",
              "      <td>Faller</td>\n",
              "    </tr>\n",
              "    <tr>\n",
              "      <th>2</th>\n",
              "      <td>3</td>\n",
              "      <td>1</td>\n",
              "      <td>25.0</td>\n",
              "      <td>MSS</td>\n",
              "      <td>S</td>\n",
              "      <td>S</td>\n",
              "      <td>2</td>\n",
              "      <td>DH121</td>\n",
              "    </tr>\n",
              "    <tr>\n",
              "      <th>3</th>\n",
              "      <td>4</td>\n",
              "      <td>1</td>\n",
              "      <td>40.0</td>\n",
              "      <td>MSS</td>\n",
              "      <td>S</td>\n",
              "      <td>S</td>\n",
              "      <td>2</td>\n",
              "      <td>DH80</td>\n",
              "    </tr>\n",
              "    <tr>\n",
              "      <th>4</th>\n",
              "      <td>5</td>\n",
              "      <td>1</td>\n",
              "      <td>25.0</td>\n",
              "      <td>MSS</td>\n",
              "      <td>S</td>\n",
              "      <td>S</td>\n",
              "      <td>2</td>\n",
              "      <td>ROB</td>\n",
              "    </tr>\n",
              "  </tbody>\n",
              "</table>\n",
              "</div>"
            ],
            "text/plain": [
              "   plot_ID  binary_1  score  ... binary_2 block variety\n",
              "0        1         1   50.0  ...        S     2   DH058\n",
              "1        2         1    5.0  ...        R     2  Faller\n",
              "2        3         1   25.0  ...        S     2   DH121\n",
              "3        4         1   40.0  ...        S     2    DH80\n",
              "4        5         1   25.0  ...        S     2     ROB\n",
              "\n",
              "[5 rows x 8 columns]"
            ]
          },
          "metadata": {
            "tags": []
          },
          "execution_count": 24
        }
      ]
    },
    {
      "cell_type": "code",
      "metadata": {
        "id": "7tDxObuWZc_A",
        "colab": {
          "base_uri": "https://localhost:8080/"
        },
        "outputId": "76acf89d-d2ff-471a-913a-3f7bc6830b99"
      },
      "source": [
        "y.binary_1.value_counts()"
      ],
      "execution_count": 25,
      "outputs": [
        {
          "output_type": "execute_result",
          "data": {
            "text/plain": [
              "0    483\n",
              "1    477\n",
              "Name: binary_1, dtype: int64"
            ]
          },
          "metadata": {
            "tags": []
          },
          "execution_count": 25
        }
      ]
    },
    {
      "cell_type": "code",
      "metadata": {
        "id": "vUE0Uw6TZlti",
        "colab": {
          "base_uri": "https://localhost:8080/"
        },
        "outputId": "e754bfa9-c457-4efd-8f08-d4a8c822abce"
      },
      "source": [
        "y = y['binary_1']\r\n",
        "y = np.asarray(y).reshape((-1,1))\r\n",
        "y.shape"
      ],
      "execution_count": 26,
      "outputs": [
        {
          "output_type": "execute_result",
          "data": {
            "text/plain": [
              "(960, 1)"
            ]
          },
          "metadata": {
            "tags": []
          },
          "execution_count": 26
        }
      ]
    },
    {
      "cell_type": "code",
      "metadata": {
        "id": "3cBzX4vrSy1c",
        "colab": {
          "base_uri": "https://localhost:8080/"
        },
        "outputId": "baceba57-3c32-4c66-9a7e-eb38d3cb203f"
      },
      "source": [
        "from sklearn.preprocessing import LabelEncoder\r\n",
        "encoder = LabelEncoder()\r\n",
        "encoder.fit(y)\r\n",
        "y = encoder.transform(y)\r\n",
        "y.shape"
      ],
      "execution_count": 27,
      "outputs": [
        {
          "output_type": "stream",
          "text": [
            "/usr/local/lib/python3.6/dist-packages/sklearn/preprocessing/_label.py:235: DataConversionWarning: A column-vector y was passed when a 1d array was expected. Please change the shape of y to (n_samples, ), for example using ravel().\n",
            "  y = column_or_1d(y, warn=True)\n",
            "/usr/local/lib/python3.6/dist-packages/sklearn/preprocessing/_label.py:268: DataConversionWarning: A column-vector y was passed when a 1d array was expected. Please change the shape of y to (n_samples, ), for example using ravel().\n",
            "  y = column_or_1d(y, warn=True)\n"
          ],
          "name": "stderr"
        },
        {
          "output_type": "execute_result",
          "data": {
            "text/plain": [
              "(960,)"
            ]
          },
          "metadata": {
            "tags": []
          },
          "execution_count": 27
        }
      ]
    },
    {
      "cell_type": "code",
      "metadata": {
        "id": "XYNyvWr_ZpNG",
        "colab": {
          "base_uri": "https://localhost:8080/"
        },
        "outputId": "9761488a-bdbe-4867-9c7b-ada2e9287696"
      },
      "source": [
        "x_train, x_test, y_train, y_test = train_test_split(dt, y, random_state=16, shuffle=True, test_size=0.1)\r\n",
        "x_train, x_val, y_train, y_val = train_test_split(x_train, y_train, random_state=16, test_size=0.15)\r\n",
        "\r\n",
        "print(\"Train size is: {}\".format(x_train.shape[0]))\r\n",
        "print(\"Test size is: {}\".format(x_test.shape[0]))\r\n",
        "print(\"Validation size is: {}\".format(x_val.shape[0]))"
      ],
      "execution_count": 28,
      "outputs": [
        {
          "output_type": "stream",
          "text": [
            "Train size is: 734\n",
            "Test size is: 96\n",
            "Validation size is: 130\n"
          ],
          "name": "stdout"
        }
      ]
    },
    {
      "cell_type": "markdown",
      "metadata": {
        "id": "cEi63zxwTMqX"
      },
      "source": [
        ""
      ]
    },
    {
      "cell_type": "code",
      "metadata": {
        "id": "wN4PiyYvOWIj",
        "colab": {
          "base_uri": "https://localhost:8080/"
        },
        "outputId": "3aaf1c3c-5bd4-48f0-aaec-9c96d561f428"
      },
      "source": [
        "x_train.shape"
      ],
      "execution_count": 29,
      "outputs": [
        {
          "output_type": "execute_result",
          "data": {
            "text/plain": [
              "(734, 64, 64, 5)"
            ]
          },
          "metadata": {
            "tags": []
          },
          "execution_count": 29
        }
      ]
    },
    {
      "cell_type": "code",
      "metadata": {
        "id": "xHo6ahSfOdHJ",
        "colab": {
          "base_uri": "https://localhost:8080/"
        },
        "outputId": "633b5362-3601-42ff-b017-c3a08ff623ef"
      },
      "source": [
        "ts = x_train[0]\r\n",
        "print(np.min(ts))\r\n",
        "print(np.max(ts))"
      ],
      "execution_count": 30,
      "outputs": [
        {
          "output_type": "stream",
          "text": [
            "0.118229024\n",
            "0.72910243\n"
          ],
          "name": "stdout"
        }
      ]
    },
    {
      "cell_type": "markdown",
      "metadata": {
        "id": "CdkxLraRVVf_"
      },
      "source": [
        "\r\n",
        "# DL Model "
      ]
    },
    {
      "cell_type": "markdown",
      "metadata": {
        "id": "TULDayWH6m7R"
      },
      "source": [
        "## Model Training"
      ]
    },
    {
      "cell_type": "code",
      "metadata": {
        "id": "rOFPNNRlTB4X"
      },
      "source": [
        "model = ResNet50(input_shape=(64, 64, 5), classes=2)\r\n",
        "#model = ResNet26(input_shape=(64, 64, 5), classes=2)"
      ],
      "execution_count": 32,
      "outputs": []
    },
    {
      "cell_type": "code",
      "metadata": {
        "id": "fl-SjJtZRIqR"
      },
      "source": [
        "model.compile(optimizer= tf.keras.optimizers.Adam(lr=0.005),loss='sparse_categorical_crossentropy', metrics=['accuracy'])"
      ],
      "execution_count": 34,
      "outputs": []
    },
    {
      "cell_type": "code",
      "metadata": {
        "id": "7cefLlmQin_G",
        "colab": {
          "base_uri": "https://localhost:8080/"
        },
        "outputId": "cb534e8c-5f1a-4086-a362-9814cac4e320"
      },
      "source": [
        "my_callbacks = [\r\n",
        "    tf.keras.callbacks.EarlyStopping(monitor='val_loss', patience=50),\r\n",
        "    tf.keras.callbacks.ModelCheckpoint(filepath='./models/ResNet50/model.{epoch:02d}-{val_loss:.2f}.h5', save_best_only=False, monitor='val_accuracy'),\r\n",
        "    tf.keras.callbacks.TensorBoard(log_dir='./logs'),\r\n",
        "    tf.keras.callbacks.ReduceLROnPlateau(monitor='val_loss', factor=0.2, patience=10, verbose=1, epsilon=1e-4, min_lr = 0.000001, mode='auto')\r\n",
        "]"
      ],
      "execution_count": 35,
      "outputs": [
        {
          "output_type": "stream",
          "text": [
            "WARNING:tensorflow:`epsilon` argument is deprecated and will be removed, use `min_delta` instead.\n"
          ],
          "name": "stdout"
        }
      ]
    },
    {
      "cell_type": "code",
      "metadata": {
        "id": "19sRiZXKZ2lp",
        "colab": {
          "base_uri": "https://localhost:8080/"
        },
        "outputId": "f4c8ff81-d684-4a26-efac-77811151c28c"
      },
      "source": [
        "model.fit(x_train, y_train, epochs=200, batch_size=24, validation_data=(x_val, y_val), callbacks=my_callbacks)"
      ],
      "execution_count": null,
      "outputs": [
        {
          "output_type": "stream",
          "text": [
            "Epoch 1/200\n",
            "31/31 [==============================] - 98s 3s/step - loss: 9.0678 - accuracy: 0.5254 - val_loss: 703822.8750 - val_accuracy: 0.4923\n",
            "Epoch 2/200\n",
            "31/31 [==============================] - 91s 3s/step - loss: 1.5380 - accuracy: 0.5125 - val_loss: 163796.9844 - val_accuracy: 0.5077\n",
            "Epoch 3/200\n",
            "31/31 [==============================] - 90s 3s/step - loss: 2.1378 - accuracy: 0.4635 - val_loss: 23.4603 - val_accuracy: 0.4846\n",
            "Epoch 4/200\n",
            "31/31 [==============================] - 92s 3s/step - loss: 2.0544 - accuracy: 0.5094 - val_loss: 0.6978 - val_accuracy: 0.5077\n",
            "Epoch 5/200\n",
            "31/31 [==============================] - 90s 3s/step - loss: 0.9517 - accuracy: 0.5159 - val_loss: 6.2108 - val_accuracy: 0.5231\n",
            "Epoch 6/200\n",
            "31/31 [==============================] - 92s 3s/step - loss: 0.9470 - accuracy: 0.5282 - val_loss: 166.8812 - val_accuracy: 0.5154\n",
            "Epoch 7/200\n",
            "31/31 [==============================] - 93s 3s/step - loss: 0.8715 - accuracy: 0.5295 - val_loss: 24.5276 - val_accuracy: 0.5077\n",
            "Epoch 8/200\n",
            "31/31 [==============================] - 92s 3s/step - loss: 0.8358 - accuracy: 0.5199 - val_loss: 0.6941 - val_accuracy: 0.4923\n",
            "Epoch 9/200\n",
            "31/31 [==============================] - 91s 3s/step - loss: 0.8314 - accuracy: 0.6216 - val_loss: 24.2970 - val_accuracy: 0.5231\n",
            "Epoch 10/200\n",
            "31/31 [==============================] - 93s 3s/step - loss: 0.7858 - accuracy: 0.6026 - val_loss: 72.1538 - val_accuracy: 0.4923\n",
            "Epoch 11/200\n",
            "31/31 [==============================] - 91s 3s/step - loss: 0.7189 - accuracy: 0.6698 - val_loss: 16.2533 - val_accuracy: 0.5846\n",
            "Epoch 12/200\n",
            "31/31 [==============================] - 92s 3s/step - loss: 0.7809 - accuracy: 0.6410 - val_loss: 4.4028 - val_accuracy: 0.6615\n",
            "Epoch 13/200\n",
            "31/31 [==============================] - 92s 3s/step - loss: 0.8271 - accuracy: 0.6318 - val_loss: 0.6123 - val_accuracy: 0.6923\n",
            "Epoch 14/200\n",
            "31/31 [==============================] - 92s 3s/step - loss: 0.6525 - accuracy: 0.6733 - val_loss: 1.7650 - val_accuracy: 0.6846\n",
            "Epoch 15/200\n",
            "31/31 [==============================] - 94s 3s/step - loss: 0.6726 - accuracy: 0.6497 - val_loss: 0.5499 - val_accuracy: 0.7308\n",
            "Epoch 16/200\n",
            "31/31 [==============================] - 92s 3s/step - loss: 0.6556 - accuracy: 0.6924 - val_loss: 0.6453 - val_accuracy: 0.6538\n",
            "Epoch 17/200\n",
            "31/31 [==============================] - 93s 3s/step - loss: 0.5924 - accuracy: 0.6928 - val_loss: 0.5362 - val_accuracy: 0.7538\n",
            "Epoch 18/200\n",
            "31/31 [==============================] - 92s 3s/step - loss: 0.6453 - accuracy: 0.6701 - val_loss: 0.5152 - val_accuracy: 0.7923\n",
            "Epoch 19/200\n",
            "31/31 [==============================] - 92s 3s/step - loss: 0.5525 - accuracy: 0.7262 - val_loss: 0.5597 - val_accuracy: 0.7462\n",
            "Epoch 20/200\n",
            "31/31 [==============================] - 93s 3s/step - loss: 0.6289 - accuracy: 0.6802 - val_loss: 8.3519 - val_accuracy: 0.6846\n",
            "Epoch 21/200\n",
            "31/31 [==============================] - 92s 3s/step - loss: 0.6172 - accuracy: 0.6699 - val_loss: 1.8087 - val_accuracy: 0.6538\n",
            "Epoch 22/200\n",
            "31/31 [==============================] - 92s 3s/step - loss: 0.5616 - accuracy: 0.7358 - val_loss: 0.5579 - val_accuracy: 0.7846\n",
            "Epoch 23/200\n",
            "31/31 [==============================] - 92s 3s/step - loss: 0.5992 - accuracy: 0.7115 - val_loss: 0.6820 - val_accuracy: 0.6385\n",
            "Epoch 24/200\n",
            "31/31 [==============================] - 91s 3s/step - loss: 0.6514 - accuracy: 0.6380 - val_loss: 0.6271 - val_accuracy: 0.6769\n",
            "Epoch 25/200\n",
            "31/31 [==============================] - 92s 3s/step - loss: 0.5758 - accuracy: 0.7076 - val_loss: 0.5482 - val_accuracy: 0.7154\n",
            "Epoch 26/200\n",
            "31/31 [==============================] - 91s 3s/step - loss: 0.6046 - accuracy: 0.7268 - val_loss: 1.7470 - val_accuracy: 0.5846\n",
            "Epoch 27/200\n",
            "31/31 [==============================] - 92s 3s/step - loss: 0.6122 - accuracy: 0.7130 - val_loss: 0.9654 - val_accuracy: 0.5923\n",
            "Epoch 28/200\n",
            "31/31 [==============================] - 92s 3s/step - loss: 0.5796 - accuracy: 0.7185 - val_loss: 0.5350 - val_accuracy: 0.7308\n",
            "\n",
            "Epoch 00028: ReduceLROnPlateau reducing learning rate to 0.0009999999776482583.\n",
            "Epoch 29/200\n",
            "31/31 [==============================] - 92s 3s/step - loss: 0.5569 - accuracy: 0.6899 - val_loss: 0.4935 - val_accuracy: 0.7769\n",
            "Epoch 30/200\n",
            "31/31 [==============================] - 92s 3s/step - loss: 0.5302 - accuracy: 0.7281 - val_loss: 0.5414 - val_accuracy: 0.7538\n",
            "Epoch 31/200\n",
            "31/31 [==============================] - 91s 3s/step - loss: 0.4983 - accuracy: 0.7457 - val_loss: 0.6195 - val_accuracy: 0.7462\n",
            "Epoch 32/200\n",
            "31/31 [==============================] - 92s 3s/step - loss: 0.5043 - accuracy: 0.7462 - val_loss: 0.6792 - val_accuracy: 0.7385\n",
            "Epoch 33/200\n",
            "31/31 [==============================] - 92s 3s/step - loss: 0.4835 - accuracy: 0.7766 - val_loss: 0.5146 - val_accuracy: 0.7692\n",
            "Epoch 34/200\n",
            "31/31 [==============================] - 91s 3s/step - loss: 0.4429 - accuracy: 0.7726 - val_loss: 0.4443 - val_accuracy: 0.8538\n",
            "Epoch 35/200\n",
            "31/31 [==============================] - 92s 3s/step - loss: 0.4801 - accuracy: 0.7382 - val_loss: 0.5042 - val_accuracy: 0.8077\n",
            "Epoch 36/200\n",
            "31/31 [==============================] - 92s 3s/step - loss: 0.3985 - accuracy: 0.8129 - val_loss: 0.4422 - val_accuracy: 0.8385\n",
            "Epoch 37/200\n",
            "31/31 [==============================] - 91s 3s/step - loss: 0.4374 - accuracy: 0.7884 - val_loss: 0.4933 - val_accuracy: 0.7923\n",
            "Epoch 38/200\n",
            "31/31 [==============================] - 92s 3s/step - loss: 0.3939 - accuracy: 0.8030 - val_loss: 0.5365 - val_accuracy: 0.7231\n",
            "Epoch 39/200\n",
            "31/31 [==============================] - 91s 3s/step - loss: 0.4389 - accuracy: 0.7913 - val_loss: 0.4965 - val_accuracy: 0.8308\n",
            "Epoch 40/200\n",
            "31/31 [==============================] - 92s 3s/step - loss: 0.4331 - accuracy: 0.7990 - val_loss: 0.4494 - val_accuracy: 0.8077\n",
            "Epoch 41/200\n",
            "31/31 [==============================] - 92s 3s/step - loss: 0.4119 - accuracy: 0.7988 - val_loss: 0.4484 - val_accuracy: 0.8308\n",
            "Epoch 42/200\n",
            "31/31 [==============================] - 91s 3s/step - loss: 0.4037 - accuracy: 0.8174 - val_loss: 0.3984 - val_accuracy: 0.8308\n",
            "Epoch 43/200\n",
            "21/31 [===================>..........] - ETA: 29s - loss: 0.3689 - accuracy: 0.8515"
          ],
          "name": "stdout"
        }
      ]
    },
    {
      "cell_type": "markdown",
      "metadata": {
        "id": "KA8rJrdqLBxi"
      },
      "source": [
        "## Model Evaluation"
      ]
    },
    {
      "cell_type": "code",
      "metadata": {
        "id": "eYQTh6C9KIuY"
      },
      "source": [
        "print(\"Testing accuracy: {}\".format(model.evaluate(x_test, y_test)[1]))\r\n",
        "print(\"Training accuracy: {}\".format(model.evaluate(x_train, y_train)[1]))\r\n",
        "print(\"Validation accuracy: {}\".format(model.evaluate(x_val, y_val)[1]))"
      ],
      "execution_count": null,
      "outputs": []
    },
    {
      "cell_type": "markdown",
      "metadata": {
        "id": "BFt2X_mMRQXH"
      },
      "source": [
        "## Save model"
      ]
    },
    {
      "cell_type": "code",
      "metadata": {
        "id": "PGsJeqeLRVmC"
      },
      "source": [
        "from tensorflow import keras\r\n",
        "keras.models.save_model(model,\"ResNet18.h5\")"
      ],
      "execution_count": null,
      "outputs": []
    },
    {
      "cell_type": "markdown",
      "metadata": {
        "id": "9GvM2yhzSpjp"
      },
      "source": [
        "## Load model"
      ]
    },
    {
      "cell_type": "code",
      "metadata": {
        "id": "5eDaSF-JSsx_"
      },
      "source": [
        "os.chdir('/content/drive/Shared drives/WSR_data/Drone200ft/Multispectral_LargerPlotSize/models/ResNet18')\r\n",
        "trained_model = '../ResNet18/ResNet18.h5'\r\n",
        "model_best = keras.models.load_model(trained_model)"
      ],
      "execution_count": null,
      "outputs": []
    },
    {
      "cell_type": "code",
      "metadata": {
        "id": "ybKdp1aTS9vY"
      },
      "source": [
        "print(\"Testing accuracy: {}\".format(model_best.evaluate(x_test, y_test)[1]))\r\n",
        "print(\"Training accuracy: {}\".format(model_best.evaluate(x_train, y_train)[1]))\r\n",
        "print(\"Validation accuracy: {}\".format(model_best.evaluate(x_val, y_val)[1]))"
      ],
      "execution_count": null,
      "outputs": []
    },
    {
      "cell_type": "markdown",
      "metadata": {
        "id": "NohaMANrQlya"
      },
      "source": [
        "# ML Models"
      ]
    },
    {
      "cell_type": "code",
      "metadata": {
        "id": "qkjmgmMFES_k"
      },
      "source": [
        "from sklearn.ensemble import BaggingClassifier as bc\r\n",
        "from sklearn.tree import DecisionTreeClassifier as dtc\r\n",
        "from sklearn.model_selection import train_test_split\r\n",
        "from sklearn.datasets import make_moons\r\n",
        "from sklearn.ensemble import RandomForestClassifier as rfc\r\n",
        "from sklearn.ensemble import VotingClassifier as vc\r\n",
        "from sklearn.linear_model import LogisticRegression as lrc\r\n",
        "from sklearn.svm import SVC as svc\r\n",
        "from sklearn.preprocessing import StandardScaler\r\n",
        "from sklearn.pipeline import Pipeline"
      ],
      "execution_count": null,
      "outputs": []
    },
    {
      "cell_type": "markdown",
      "metadata": {
        "id": "HrO0XSFBQoSt"
      },
      "source": [
        "## Read data"
      ]
    },
    {
      "cell_type": "code",
      "metadata": {
        "id": "3Idx3eGCQrc5"
      },
      "source": [
        "os.chdir(\"/content/drive/My Drive/UMN_Research/Data/wsr\")\r\n",
        "dt = pd.read_csv('data.csv')\r\n",
        "print(dt.shape)\r\n",
        "dt.head(5)"
      ],
      "execution_count": null,
      "outputs": []
    },
    {
      "cell_type": "markdown",
      "metadata": {
        "id": "_Aexz2aWC02D"
      },
      "source": [
        "## Data Clearning"
      ]
    },
    {
      "cell_type": "code",
      "metadata": {
        "id": "X5ncNWMTC7Jg"
      },
      "source": [
        "dt2=dt\r\n",
        "dt2 = dt2.drop(['plotID'],axis=1)\r\n",
        "dt2.shape\r\n",
        "\r\n",
        "dt2['class2']=0\r\n",
        "dt2['class2'].iloc[(dt2.block==2)|(dt2.block==3)|(dt2.block==6)]=1\r\n",
        "\r\n",
        "dt2['class2'].value_counts()"
      ],
      "execution_count": null,
      "outputs": []
    },
    {
      "cell_type": "code",
      "metadata": {
        "id": "yWVT1DmrDHvx"
      },
      "source": [
        "dt3 = dt2\r\n",
        "dt3 = dt3.drop(['score','resistance_class_4','binary_2','block'],axis=1)\r\n",
        "print(dt3.shape)\r\n",
        "dt3.head(5)"
      ],
      "execution_count": null,
      "outputs": []
    },
    {
      "cell_type": "markdown",
      "metadata": {
        "id": "fChuCC14DITq"
      },
      "source": [
        "### Check and remove NaN"
      ]
    },
    {
      "cell_type": "code",
      "metadata": {
        "id": "hEpcGC6MDMXx"
      },
      "source": [
        "pd.isnull(dt3).any(axis=0)"
      ],
      "execution_count": null,
      "outputs": []
    },
    {
      "cell_type": "code",
      "metadata": {
        "id": "5JxtV4edDQrG"
      },
      "source": [
        "pd.isnull(dt3).sum(axis=0)"
      ],
      "execution_count": null,
      "outputs": []
    },
    {
      "cell_type": "code",
      "metadata": {
        "id": "hmdUnm7mHQbW"
      },
      "source": [
        "dt3.loc[pd.isnull(dt3).any(axis=1)]"
      ],
      "execution_count": null,
      "outputs": []
    },
    {
      "cell_type": "code",
      "metadata": {
        "id": "KScYUtSnHoxG"
      },
      "source": [
        "dt3 = dt3.replace('#NAME?', np.NaN)"
      ],
      "execution_count": null,
      "outputs": []
    },
    {
      "cell_type": "code",
      "metadata": {
        "id": "4ppogcylH872"
      },
      "source": [
        "dt3.loc[pd.isnull(dt3).any(axis=1)]"
      ],
      "execution_count": null,
      "outputs": []
    },
    {
      "cell_type": "code",
      "metadata": {
        "id": "kCnkP5GrVFkP"
      },
      "source": [
        "dt4 = dt3.fillna(method='ffill')\r\n",
        "\r\n",
        "print(pd.isnull(dt4).sum(axis=0))\r\n",
        "dt4 = dt4.astype('float')\r\n",
        "print(dt4.dtypes)"
      ],
      "execution_count": null,
      "outputs": []
    },
    {
      "cell_type": "markdown",
      "metadata": {
        "id": "L5M5zxLvDnIV"
      },
      "source": [
        "## Generate training, validation, and testing data"
      ]
    },
    {
      "cell_type": "code",
      "metadata": {
        "id": "u2h_uXAdDZhx"
      },
      "source": [
        "x, y = dt4.drop(['class2'], axis=1), dt4['class2']\r\n",
        "x = StandardScaler().fit_transform(x)\r\n",
        "x.shape"
      ],
      "execution_count": null,
      "outputs": []
    },
    {
      "cell_type": "code",
      "metadata": {
        "id": "wSIfkh48DfSZ"
      },
      "source": [
        "x_train, x_test, y_train, y_test = train_test_split(x, y, random_state=16, shuffle=True, test_size=0.15)\r\n",
        "x_train, x_val, y_train, y_val = train_test_split(x_train, y_train, random_state=16, test_size=0.2)\r\n",
        "\r\n",
        "print(\"Train size is: {}\".format(x_train.shape[0]))\r\n",
        "print(\"Test size is: {}\".format(x_test.shape[0]))\r\n",
        "print(\"Validation size is: {}\".format(x_val.shape[0]))"
      ],
      "execution_count": null,
      "outputs": []
    },
    {
      "cell_type": "markdown",
      "metadata": {
        "id": "-PrxKBmmUhv-"
      },
      "source": [
        "## RF and SVM Models"
      ]
    },
    {
      "cell_type": "code",
      "metadata": {
        "id": "DSxCVoyEMTDb"
      },
      "source": [
        "rf_clf = rfc(n_estimators=500, random_state=6) \r\n",
        "svm_clf = svc(gamma='scale', random_state=6)\r\n",
        "\r\n",
        "rf_clf.fit(x_train, y_train)\r\n",
        "svm_clf.fit(x_train, y_train)"
      ],
      "execution_count": null,
      "outputs": []
    },
    {
      "cell_type": "code",
      "metadata": {
        "id": "0Eh9Z0kfOFhK"
      },
      "source": [
        "y_pred_rf = rf_clf.predict(x_test)\r\n",
        "y_pred_svm = svm_clf.predict(x_test)"
      ],
      "execution_count": null,
      "outputs": []
    },
    {
      "cell_type": "code",
      "metadata": {
        "id": "yRyqXgRBOIr3"
      },
      "source": [
        "from sklearn.metrics import accuracy_score\r\n",
        "\r\n",
        "print(\"Test Accuracy by RF: {}\".format(accuracy_score(y_test, y_pred_rf)))\r\n",
        "print(\"Test Accuracy by SVM: {}\".format(accuracy_score(y_test, y_pred_svm)))"
      ],
      "execution_count": null,
      "outputs": []
    },
    {
      "cell_type": "code",
      "metadata": {
        "id": "8zaWlfIwOLkz"
      },
      "source": [
        "from sklearn.metrics import confusion_matrix\r\n",
        "print(\"Confusion matrix by RF:\")\r\n",
        "print(confusion_matrix(y_test, y_pred_rf))\r\n",
        "\r\n",
        "print(\"\")\r\n",
        "print(\"Confusion matrix by SVM:\")\r\n",
        "print(confusion_matrix(y_test, y_pred_svm))"
      ],
      "execution_count": null,
      "outputs": []
    },
    {
      "cell_type": "markdown",
      "metadata": {
        "id": "okRTv3t7OOgt"
      },
      "source": [
        "## MLP Model"
      ]
    },
    {
      "cell_type": "code",
      "metadata": {
        "id": "wWyQD5OQOtNV"
      },
      "source": [
        "import tensorflow as tf\r\n",
        "from tensorflow import keras"
      ],
      "execution_count": null,
      "outputs": []
    },
    {
      "cell_type": "code",
      "metadata": {
        "id": "Na051_UrOvNO"
      },
      "source": [
        "mlp_model = keras.models.Sequential()\r\n",
        "mlp_model.add(Dense(30, input_dim = 26, activation='relu'))\r\n",
        "mlp_model.add(Dense(30, activation='relu'))\r\n",
        "mlp_model.add(Dense(2, activation='sigmoid'))"
      ],
      "execution_count": null,
      "outputs": []
    },
    {
      "cell_type": "code",
      "metadata": {
        "id": "lEKs8ky-Pxar"
      },
      "source": [
        "mlp_model.compile(loss='sparse_categorical_crossentropy',\r\n",
        "                  optimizer = keras.optimizers.Adam(learning_rate=0.01),\r\n",
        "                  metrics=['accuracy'])"
      ],
      "execution_count": null,
      "outputs": []
    },
    {
      "cell_type": "code",
      "metadata": {
        "id": "h59NH8x_VMxw"
      },
      "source": [
        "my_callbacks = [\r\n",
        "    tf.keras.callbacks.EarlyStopping(monitor='val_loss', patience=100),\r\n",
        "    tf.keras.callbacks.ModelCheckpoint(filepath='./MLP/model.{epoch:02d}-{val_loss:.2f}.h5', save_best_only=True, monitor='val_accuracy'),\r\n",
        "    tf.keras.callbacks.ReduceLROnPlateau(monitor='val_loss', factor=0.2, patience=10, verbose=1, epsilon=1e-4, min_lr = 0.000001, mode='auto')\r\n",
        "]"
      ],
      "execution_count": null,
      "outputs": []
    },
    {
      "cell_type": "code",
      "metadata": {
        "id": "hoYH6FusQLPl"
      },
      "source": [
        "fit_history = mlp_model.fit(x_train, y_train, epochs=200,batch_size=16, verbose=1, validation_data=(x_val, y_val), callbacks=my_callbacks)"
      ],
      "execution_count": null,
      "outputs": []
    },
    {
      "cell_type": "code",
      "metadata": {
        "id": "aNIKgMy3QQ1E"
      },
      "source": [
        "pd.DataFrame(fit_history.history).plot(figsize=(10,6))\r\n",
        "plt.grid(True)\r\n",
        "plt.gca().set_ylim(0,1)\r\n",
        "plt.show()"
      ],
      "execution_count": null,
      "outputs": []
    },
    {
      "cell_type": "code",
      "metadata": {
        "id": "jGH4-ofcQUDf"
      },
      "source": [
        "y_pred_mlp = mlp_model.predict_classes(x_test)\r\n",
        "print(\"Test Accuracy by MLP: {}\".format(accuracy_score(y_test, y_pred_mlp)))\r\n",
        "\r\n",
        "print(\"Confusion matrix by MLP:\")\r\n",
        "print(confusion_matrix(y_test, y_pred_mlp))"
      ],
      "execution_count": null,
      "outputs": []
    },
    {
      "cell_type": "code",
      "metadata": {
        "id": "GHfz08W8VaVg"
      },
      "source": [
        "y_pred_mlp = mlp_model.predict_classes(x_test)\r\n",
        "print(\"Test Accuracy by Final MLP: {}\".format(accuracy_score(y_test, y_pred_mlp)))\r\n",
        "\r\n",
        "print(\"Confusion matrix by Final MLP:\")\r\n",
        "print(confusion_matrix(y_test, y_pred_mlp))"
      ],
      "execution_count": null,
      "outputs": []
    },
    {
      "cell_type": "markdown",
      "metadata": {
        "id": "G2PKKhXaTzSl"
      },
      "source": [
        "### Load best model"
      ]
    },
    {
      "cell_type": "code",
      "metadata": {
        "id": "MID52wnsUefO"
      },
      "source": [
        "os.chdir(\"/content/drive/My Drive/UMN_Research/Data/wsr\")\r\n",
        "trained_model = './MLP/model.27-0.53.h5'\r\n",
        "model_best = keras.models.load_model(trained_model)"
      ],
      "execution_count": null,
      "outputs": []
    },
    {
      "cell_type": "code",
      "metadata": {
        "id": "JiF33k7SUs8y"
      },
      "source": [
        "y_pred_mlp = model_best.predict_classes(x_test)\r\n",
        "print(\"Test Accuracy by Best MLP: {}\".format(accuracy_score(y_test, y_pred_mlp)))\r\n",
        "\r\n",
        "print(\"Confusion matrix by Best MLP:\")\r\n",
        "print(confusion_matrix(y_test, y_pred_mlp))"
      ],
      "execution_count": null,
      "outputs": []
    }
  ]
}